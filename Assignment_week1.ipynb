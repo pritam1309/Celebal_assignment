{
  "nbformat": 4,
  "nbformat_minor": 0,
  "metadata": {
    "colab": {
      "provenance": [],
      "authorship_tag": "ABX9TyOlyt3/j6tBqBjPMwLNQ7l1",
      "include_colab_link": true
    },
    "kernelspec": {
      "name": "python3",
      "display_name": "Python 3"
    },
    "language_info": {
      "name": "python"
    }
  },
  "cells": [
    {
      "cell_type": "markdown",
      "metadata": {
        "id": "view-in-github",
        "colab_type": "text"
      },
      "source": [
        "<a href=\"https://colab.research.google.com/github/pritam1309/Celebal_assignment/blob/main/Assignment_week1.ipynb\" target=\"_parent\"><img src=\"https://colab.research.google.com/assets/colab-badge.svg\" alt=\"Open In Colab\"/></a>"
      ]
    },
    {
      "cell_type": "markdown",
      "source": [
        "https://www.hackerrank.com/challenges/python-arithmetic-operators/problem?isFullScreen=true"
      ],
      "metadata": {
        "id": "GLHBy3MXno0S"
      }
    },
    {
      "cell_type": "code",
      "source": [
        "if __name__ == '__main__':\n",
        "    a = int(input())\n",
        "    b = int(input())\n",
        "    print(a+b)\n",
        "    print(a-b)\n",
        "    print(a*b)\n"
      ],
      "metadata": {
        "colab": {
          "base_uri": "https://localhost:8080/"
        },
        "id": "Xcrud-zRnfmr",
        "outputId": "c44d0ccc-f5b8-4d3b-fffb-5a2a31ce9d52"
      },
      "execution_count": 2,
      "outputs": [
        {
          "output_type": "stream",
          "name": "stdout",
          "text": [
            "3\n",
            "5\n",
            "8\n",
            "-2\n",
            "15\n"
          ]
        }
      ]
    },
    {
      "cell_type": "markdown",
      "source": [
        "https://www.hackerrank.com/challenges/compress-the-string/problem?isFullScreen=true"
      ],
      "metadata": {
        "id": "Fo2w3lpbns_A"
      }
    },
    {
      "cell_type": "code",
      "source": [
        "from itertools import groupby\n",
        "for number, lst in groupby(input()):\n",
        "    print(f\"({len(list(lst))}, {number})\", end=\" \")\n"
      ],
      "metadata": {
        "colab": {
          "base_uri": "https://localhost:8080/"
        },
        "id": "pTm-31XwnyI-",
        "outputId": "ed736334-e505-40c9-ceff-8345a8be76a0"
      },
      "execution_count": 3,
      "outputs": [
        {
          "output_type": "stream",
          "name": "stdout",
          "text": [
            "1222311\n",
            "(1, 1) (3, 2) (1, 3) (2, 1) "
          ]
        }
      ]
    },
    {
      "cell_type": "markdown",
      "source": [
        "https://www.hackerrank.com/challenges/the-minion-game/problem?isFullScreen=true\n"
      ],
      "metadata": {
        "id": "I0DEUXWmoIFl"
      }
    },
    {
      "cell_type": "code",
      "source": [
        "def minion_game(string):\n",
        "    kevin_score = 0\n",
        "    stuart_score = 0\n",
        "    str_len = len(string)\n",
        "\n",
        "    for index, sub in enumerate(string):\n",
        "        if sub in [\"A\", \"E\", \"I\", \"O\", \"U\"]:\n",
        "            kevin_score += str_len - index\n",
        "        else:\n",
        "            stuart_score += str_len -index\n",
        "\n",
        "    if kevin_score == stuart_score:\n",
        "        print(\"Draw\")\n",
        "    elif kevin_score > stuart_score:\n",
        "        print(f'Kevin {kevin_score}')\n",
        "    else:\n",
        "        print(f'Stuart {stuart_score}')\n",
        "\n",
        "if __name__ == '__main__':\n",
        "    s = input()\n",
        "    minion_game(s)"
      ],
      "metadata": {
        "colab": {
          "base_uri": "https://localhost:8080/"
        },
        "id": "B8w1PRXOoLa9",
        "outputId": "dce88208-a611-4b4e-bfe9-a783556183b1"
      },
      "execution_count": 4,
      "outputs": [
        {
          "output_type": "stream",
          "name": "stdout",
          "text": [
            "BANANANA\n",
            "Stuart 20\n"
          ]
        }
      ]
    },
    {
      "cell_type": "markdown",
      "source": [
        "https://www.hackerrank.com/challenges/write-a-function/problem?isFullScreen=true\n"
      ],
      "metadata": {
        "id": "GZ9BD1L9oS6W"
      }
    },
    {
      "cell_type": "code",
      "source": [
        "def is_leap(year):\n",
        "    leap = False\n",
        "    if(year % 4 == 0):\n",
        "        if(year % 100 != 0) or (year % 400 == 0):\n",
        "            return not leap\n",
        "    else:\n",
        "        return leap\n",
        "    return leap\n",
        "\n",
        "year = int(input())\n",
        "print(is_leap(year))\n"
      ],
      "metadata": {
        "colab": {
          "base_uri": "https://localhost:8080/"
        },
        "id": "DVSEOCM9oXCX",
        "outputId": "a993fd60-a854-4510-93c1-6d03d5305551"
      },
      "execution_count": 5,
      "outputs": [
        {
          "output_type": "stream",
          "name": "stdout",
          "text": [
            "2004\n",
            "True\n"
          ]
        }
      ]
    },
    {
      "cell_type": "markdown",
      "source": [
        "https://www.hackerrank.com/challenges/iterables-and-iterators/problem?isFullScreen=true"
      ],
      "metadata": {
        "id": "JMU9dW4Fo5vY"
      }
    },
    {
      "cell_type": "code",
      "source": [
        "import math\n",
        "\n",
        "def comb(n,r):\n",
        "    result = 1\n",
        "    for i in range(n-r+1,n+1):\n",
        "        result *= i\n",
        "    result /= math.factorial(r)\n",
        "    return result\n",
        "\n",
        "N = int(input())\n",
        "aCount = input().count(\"a\")\n",
        "K = int(input())\n",
        "probability = 1 - comb(N-aCount,K)/comb(N,K)\n",
        "print(f\"{probability:.3f}\")"
      ],
      "metadata": {
        "colab": {
          "base_uri": "https://localhost:8080/"
        },
        "id": "MMo3J_6So66d",
        "outputId": "24e255a0-4916-419c-c8eb-07dd00ed4ee4"
      },
      "execution_count": 6,
      "outputs": [
        {
          "output_type": "stream",
          "name": "stdout",
          "text": [
            "4\n",
            "a a c d\n",
            "2\n",
            "0.833\n"
          ]
        }
      ]
    },
    {
      "cell_type": "markdown",
      "source": [
        "https://www.hackerrank.com/challenges/python-tuples/problem?isFullScreen=true"
      ],
      "metadata": {
        "id": "2c9iIzRLpRsC"
      }
    },
    {
      "cell_type": "code",
      "source": [
        "if __name__ == '__main__':\n",
        "    n = int(input())\n",
        "    integer_list = map(int, input().split())\n",
        "    ls = list(integer_list)\n",
        "    t = ()\n",
        "    for i in ls:\n",
        "        t += (i,)\n",
        "\n",
        "    hashed = hash(t)\n",
        "    print(hashed)\n",
        ""
      ],
      "metadata": {
        "colab": {
          "base_uri": "https://localhost:8080/"
        },
        "id": "XTIjOl2qpSpi",
        "outputId": "72494d74-6a3c-4845-e5b1-e9e71cfca29c"
      },
      "execution_count": 7,
      "outputs": [
        {
          "output_type": "stream",
          "name": "stdout",
          "text": [
            "2\n",
            "1 2\n",
            "-3550055125485641917\n"
          ]
        }
      ]
    },
    {
      "cell_type": "markdown",
      "source": [
        "https://www.hackerrank.com/challenges/finding-the-percentage/problem?isFullScreen=true"
      ],
      "metadata": {
        "id": "YoFYwFdsp2UW"
      }
    },
    {
      "cell_type": "code",
      "source": [
        "if __name__ == '__main__':\n",
        "    n = int(input())\n",
        "    student_marks = {}\n",
        "    for _ in range(n):\n",
        "        name, *line = input().split()\n",
        "        scores = list(map(float, line))\n",
        "        student_marks[name]= scores\n",
        "    query_name = input()\n",
        "\n",
        "    marks = []\n",
        "    for name in student_marks:\n",
        "        if(name == query_name):\n",
        "            marks = student_marks[name]\n",
        "\n",
        "    sm = sum(marks)\n",
        "\n",
        "    avg = (sm / len(marks))\n",
        "\n",
        "    print('%0.2f' % avg)"
      ],
      "metadata": {
        "colab": {
          "base_uri": "https://localhost:8080/"
        },
        "id": "IJCA-4_Op4bI",
        "outputId": "6a97c6bc-320a-4b16-a776-4349b25b2b0f"
      },
      "execution_count": 8,
      "outputs": [
        {
          "output_type": "stream",
          "name": "stdout",
          "text": [
            "2\n",
            "pritam 23 45 67\n",
            "ram 45 78 90\n",
            "ram\n",
            "71.00\n"
          ]
        }
      ]
    },
    {
      "cell_type": "markdown",
      "source": [
        "https://www.hackerrank.com/challenges/python-string-formatting/problem?isFullScreen=true\n"
      ],
      "metadata": {
        "id": "L0yXfZRyqJhV"
      }
    },
    {
      "cell_type": "code",
      "source": [
        "def print_formatted(number):\n",
        "    width = len(str(format(number, 'b')))\n",
        "    types = [\"d\", \"o\", \"X\", \"b\"]\n",
        "    for i in range(1, number+1):\n",
        "        for k in types:\n",
        "            print(str(format(i, k)).rjust(width, \" \"),end = \" \")\n",
        "        print()\n",
        "\n",
        "\n",
        "if __name__ == '__main__':\n",
        "    n = int(input())\n",
        "    print_formatted(n)"
      ],
      "metadata": {
        "colab": {
          "base_uri": "https://localhost:8080/"
        },
        "id": "TJRVc8W4qN8_",
        "outputId": "5a54a07f-6146-488c-c87c-95d24a4910c6"
      },
      "execution_count": 9,
      "outputs": [
        {
          "output_type": "stream",
          "name": "stdout",
          "text": [
            "3\n",
            " 1  1  1  1 \n",
            " 2  2  2 10 \n",
            " 3  3  3 11 \n"
          ]
        }
      ]
    }
  ]
}